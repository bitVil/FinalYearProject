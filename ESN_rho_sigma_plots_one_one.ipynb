{
 "cells": [
  {
   "cell_type": "code",
   "execution_count": 4,
   "metadata": {},
   "outputs": [],
   "source": [
    "import numpy as np\n",
    "import scipy.sparse as sp\n",
    "import matplotlib.pyplot as plt\n",
    "import scipy.integrate as integrate\n",
    "import ipywidgets as widgets\n",
    "import pickle\n",
    "from mpl_toolkits.axes_grid1.axes_divider import make_axes_locatable\n",
    "from matplotlib import cm\n",
    "\n",
    "import ReservoirComputer3_2 as ReCom\n",
    "import ReservoirGrid_2 as ReGrid"
   ]
  },
  {
   "cell_type": "code",
   "execution_count": 5,
   "metadata": {},
   "outputs": [],
   "source": [
    "def lorenz(u, t, *args):\n",
    "    x, y, z = u[0], u[1], u[2]\n",
    "    beta, rho, sigma = alpha[0], alpha[1], alpha[2]\n",
    "    \n",
    "    return np.asarray([sigma*(y - x), x*(rho - z) - y, x*y - beta*z])\n",
    "\n",
    "T_train = 100\n",
    "T_predict = 150\n",
    "dt = 0.01\n",
    "alpha = (8.0/3.0, 28.0, 10.0)\n",
    "x0 = np.asarray([1.0, 1.0, 1.0])\n",
    "t_points_training = np.linspace(0, T_train, int(T_train/dt))\n",
    "t_points_predict = np.linspace(0, T_predict, int(T_predict/dt))\n",
    "train_data = integrate.odeint(lorenz, x0, t_points_training, args=alpha)\n",
    "val_data = integrate.odeint(lorenz, train_data[-1], t_points_predict, args=alpha)"
   ]
  },
  {
   "cell_type": "code",
   "execution_count": 6,
   "metadata": {},
   "outputs": [],
   "source": [
    "rho_list = np.arange(0.1, 1.0, 0.1)\n",
    "sigma_list = np.arange(0.1, 1.0, 0.1)\n",
    "ics = list(np.random.uniform(low=-1, high=1, size=(20,100)))"
   ]
  },
  {
   "cell_type": "code",
   "execution_count": 7,
   "metadata": {},
   "outputs": [],
   "source": [
    "RC = ReCom.ESN(N=100, p=0.01, d=3, rho=0, sigma=0, gamma=10.0, beta=1e-6)\n",
    "esn_rs_grid = ReGrid.Comb_ESN_RhoSigmaGrid(rho_list, sigma_list, RC)"
   ]
  },
  {
   "cell_type": "code",
   "execution_count": 9,
   "metadata": {},
   "outputs": [
    {
     "name": "stdout",
     "output_type": "stream",
     "text": [
      "Wall time: 1min 46s\n"
     ]
    }
   ],
   "source": [
    "%%time\n",
    "esn_rs_grid.train_RCs(train_data, t_points_training, t_listen=5000)"
   ]
  },
  {
   "cell_type": "code",
   "execution_count": 6,
   "metadata": {},
   "outputs": [],
   "source": [
    "rho_sigma_RCs = esn_rs_grid.rho_sigma_RCs"
   ]
  },
  {
   "cell_type": "code",
   "execution_count": 10,
   "metadata": {},
   "outputs": [
    {
     "name": "stdout",
     "output_type": "stream",
     "text": [
      "no stored variable or alias rho_sigma_RCs\n"
     ]
    }
   ],
   "source": [
    "%store -r rho_sigma_RCs"
   ]
  },
  {
   "cell_type": "code",
   "execution_count": 11,
   "metadata": {},
   "outputs": [
    {
     "name": "stdout",
     "output_type": "stream",
     "text": [
      "0.1 0.1\n",
      "0.1 0.2\n",
      "0.1 0.30000000000000004\n",
      "0.1 0.4\n",
      "0.1 0.5\n",
      "0.1 0.6\n",
      "0.1 0.7000000000000001\n",
      "0.1 0.8\n",
      "0.1 0.9\n",
      "0.2 0.1\n",
      "0.2 0.2\n",
      "0.2 0.30000000000000004\n",
      "0.2 0.4\n",
      "0.2 0.5\n",
      "0.2 0.6\n",
      "0.2 0.7000000000000001\n",
      "0.2 0.8\n",
      "0.2 0.9\n",
      "0.30000000000000004 0.1\n",
      "0.30000000000000004 0.2\n",
      "0.30000000000000004 0.30000000000000004\n",
      "0.30000000000000004 0.4\n",
      "0.30000000000000004 0.5\n",
      "0.30000000000000004 0.6\n",
      "0.30000000000000004 0.7000000000000001\n",
      "0.30000000000000004 0.8\n",
      "0.30000000000000004 0.9\n",
      "0.4 0.1\n",
      "0.4 0.2\n",
      "0.4 0.30000000000000004\n",
      "0.4 0.4\n",
      "0.4 0.5\n",
      "0.4 0.6\n",
      "0.4 0.7000000000000001\n",
      "0.4 0.8\n",
      "0.4 0.9\n",
      "0.5 0.1\n",
      "0.5 0.2\n",
      "0.5 0.30000000000000004\n",
      "0.5 0.4\n",
      "0.5 0.5\n",
      "0.5 0.6\n",
      "0.5 0.7000000000000001\n",
      "0.5 0.8\n",
      "0.5 0.9\n",
      "0.6 0.1\n",
      "0.6 0.2\n",
      "0.6 0.30000000000000004\n",
      "0.6 0.4\n",
      "0.6 0.5\n",
      "0.6 0.6\n",
      "0.6 0.7000000000000001\n",
      "0.6 0.8\n",
      "0.6 0.9\n",
      "0.7000000000000001 0.1\n",
      "0.7000000000000001 0.2\n",
      "0.7000000000000001 0.30000000000000004\n",
      "0.7000000000000001 0.4\n",
      "0.7000000000000001 0.5\n",
      "0.7000000000000001 0.6\n",
      "0.7000000000000001 0.7000000000000001\n",
      "0.7000000000000001 0.8\n",
      "0.7000000000000001 0.9\n",
      "0.8 0.1\n",
      "0.8 0.2\n",
      "0.8 0.30000000000000004\n",
      "0.8 0.4\n",
      "0.8 0.5\n",
      "0.8 0.6\n",
      "0.8 0.7000000000000001\n",
      "0.8 0.8\n",
      "0.8 0.9\n",
      "0.9 0.1\n",
      "0.9 0.2\n",
      "0.9 0.30000000000000004\n",
      "0.9 0.4\n",
      "0.9 0.5\n",
      "0.9 0.6\n",
      "0.9 0.7000000000000001\n",
      "0.9 0.8\n",
      "0.9 0.9\n",
      "Wall time: 1h 16min 38s\n"
     ]
    }
   ],
   "source": [
    "%%time\n",
    "esn_rs_grid.calc_trajectories(t_points_predict, ics)"
   ]
  },
  {
   "cell_type": "code",
   "execution_count": 9,
   "metadata": {},
   "outputs": [
    {
     "data": {
      "application/vnd.jupyter.widget-view+json": {
       "model_id": "07dd818966084d1082c2e63d0b7ba3c4",
       "version_major": 2,
       "version_minor": 0
      },
      "text/plain": [
       "interactive(children=(IntSlider(value=0, description='i', max=8), IntSlider(value=0, description='j', max=8), …"
      ]
     },
     "metadata": {},
     "output_type": "display_data"
    }
   ],
   "source": [
    "%matplotlib inline\n",
    "@widgets.interact(i=(0, rho_list.size-1, 1), j=(0, sigma_list.size-1, 1), t_start=(0, 15000, 10), t_end=(0, 15000, 10),\n",
    "                  xlim=(0,4000,10), ylim=(0,4000,10), zlim=(0, 4000, 10))\n",
    "def update(i=0, j=0, t_start=1000, t_end=15000, xlim=200, ylim=200, zlim=200):\n",
    "    fig = plt.figure(figsize=(15,9))  \n",
    "    ReGrid.plot_traj(esn_rs_grid.trajectories[i,j], t_start, t_end, xlim, ylim, zlim)\n",
    "    print(rho_list[i], sigma_list[j])"
   ]
  },
  {
   "cell_type": "code",
   "execution_count": 10,
   "metadata": {},
   "outputs": [
    {
     "name": "stdout",
     "output_type": "stream",
     "text": [
      "Wall time: 15 s\n"
     ]
    }
   ],
   "source": [
    "%%time\n",
    "esn_rs_grid.attractor_dict(0.01, lorenz, alpha)"
   ]
  },
  {
   "cell_type": "code",
   "execution_count": 11,
   "metadata": {},
   "outputs": [
    {
     "name": "stdout",
     "output_type": "stream",
     "text": [
      "Wall time: 0 ns\n"
     ]
    }
   ],
   "source": [
    "%%time\n",
    "attractor_encoding = { \n",
    "    (0, 0, 0):0, (1, 0, 0):1, (2, 0, 0):2, (5, 0, 0):3,\n",
    "    (0, 1, 0):4, (1, 1, 0):5, (2, 1, 0):6, (2, 1, 1):7,\n",
    "    (1, 0, 1):8, (2, 0, 1):9, (1, 1, 1):10, (3, 1, 1):11,\n",
    "    (0, 1, 1):12, (0, 0, 1):13\n",
    "}\n",
    "ua_mat = esn_rs_grid.ua_matrix(attractor_encoding) "
   ]
  },
  {
   "cell_type": "code",
   "execution_count": 12,
   "metadata": {},
   "outputs": [],
   "source": [
    "rev_encoding = {v: k for k, v in attractor_encoding.items()}"
   ]
  },
  {
   "cell_type": "code",
   "execution_count": 13,
   "metadata": {},
   "outputs": [
    {
     "data": {
      "text/plain": [
       "[0, 1, 2, 3, 4, 5, 6, 7, 8, 9]"
      ]
     },
     "execution_count": 13,
     "metadata": {},
     "output_type": "execute_result"
    }
   ],
   "source": [
    "valid_vals = list(set(ua_mat.flatten()))\n",
    "valid_vals.sort()\n",
    "indices = list(range(len(valid_vals)))\n",
    "indices"
   ]
  },
  {
   "cell_type": "code",
   "execution_count": 14,
   "metadata": {},
   "outputs": [],
   "source": [
    "def tuple_to_label(x):\n",
    "    if max(x) == 0 and min(x) == 0:\n",
    "        label = \"No UAs\"\n",
    "    else:\n",
    "        label = []\n",
    "        if x[0] != 0:\n",
    "            label.append(str(x[0]) + \" FP, \")\n",
    "        if x[1] != 0:\n",
    "            label.append(str(x[1]) + \" LC, \")\n",
    "        if x[2] != 0:\n",
    "            label.append(str(x[2]) + \" other \")\n",
    "        label = \"\".join(label)\n",
    "    if label[-2:] ==', ':\n",
    "        label = label[:-2]\n",
    "    return label\n",
    "\n",
    "\n",
    "def rank_matrix(mat):\n",
    "    rank_mat = np.zeros(mat.shape)\n",
    "    rank_list = list(set(mat.flatten()))\n",
    "    rank_list.sort()\n",
    "    for i in range(rank_mat.shape[0]):\n",
    "        # get the index of the element in the rank list\n",
    "        rank_mat[i] = [np.where(rank_list==x)[0][0] for x in mat[i]]\n",
    "    \n",
    "    return rank_mat\n",
    "\n",
    "\n",
    "def index_matrix(mat):\n",
    "    index_mat = np.zeros(mat.shape)\n",
    "    index_list = list(set(mat.flatten()))\n",
    "    index_list.sort()\n",
    "    for i in range(rank_mat.shape[0]):\n",
    "        # get the index of the element in the rank list\n",
    "        index_mat[i] = [np.where(rank_list==x)[0][0] for x in mat[i]]\n",
    "    \n",
    "    return rank_mat"
   ]
  },
  {
   "cell_type": "code",
   "execution_count": 36,
   "metadata": {},
   "outputs": [
    {
     "data": {
      "text/plain": [
       "array([[ 4.,  4.,  1.,  4.,  4.,  4.,  4.,  1.,  1.],\n",
       "       [ 4.,  4.,  4.,  4.,  4.,  4., 12.,  4., 10.],\n",
       "       [ 4.,  4.,  4.,  4.,  4.,  5.,  4.,  4.,  5.],\n",
       "       [ 4.,  4.,  4.,  4.,  4.,  4., 10.,  4.,  5.],\n",
       "       [ 4.,  4.,  4.,  4.,  4.,  4.,  4.,  5.,  4.],\n",
       "       [12.,  4.,  4.,  4.,  8.,  5.,  5.,  5.,  5.],\n",
       "       [ 4.,  4.,  4., 13.,  2.,  8.,  5.,  5.,  5.],\n",
       "       [ 4.,  4.,  4., 12.,  5.,  9.,  8., 10.,  6.],\n",
       "       [ 4.,  1.,  4.,  9., 13., 13.,  8.,  4.,  6.]])"
      ]
     },
     "execution_count": 36,
     "metadata": {},
     "output_type": "execute_result"
    }
   ],
   "source": [
    "ua_mat"
   ]
  },
  {
   "cell_type": "code",
   "execution_count": 37,
   "metadata": {},
   "outputs": [
    {
     "data": {
      "text/plain": [
       "Text(0.5, 1.0, 'Untrained attractors in predicting reservoir state space')"
      ]
     },
     "execution_count": 37,
     "metadata": {},
     "output_type": "execute_result"
    },
    {
     "data": {
      "image/png": "[encoded data removed]",
      "text/plain": [
       "<Figure size 720x720 with 2 Axes>"
      ]
     },
     "metadata": {
      "needs_background": "light"
     },
     "output_type": "display_data"
    }
   ],
   "source": [
    "fig, ax = plt.subplots(figsize=(10,10))\n",
    "\n",
    "plt.imshow(ua_mat,\n",
    "           origin='lower', extent=[0.1, 1.0, 0.1, 1.0], \n",
    "           aspect='auto',\n",
    "           cmap=plt.cm.get_cmap('tab20', 14))\n",
    "\n",
    "formatter = plt.FuncFormatter(lambda val, loc: tuple_to_label(rev_encoding[val]))\n",
    "\n",
    "# We must be sure to specify the ticks matching our target names\n",
    "plt.colorbar(ticks=[0, 1, 2, 3, 4, 5, 6, 7, 8, 9, 10, 11, 12, 13], format=formatter);\n",
    "\n",
    "# Set the clim so that labels are centered on each block\n",
    "plt.clim(-0.5, 13.5)\n",
    "\n",
    "plt.xticks([0.1, 0.2, 0.3, 0.4, 0.5, 0.6, 0.7, 0.8, 0.9, 1.0])\n",
    "plt.yticks([0.1, 0.2, 0.3, 0.4, 0.5, 0.6, 0.7, 0.8, 0.9, 1.0])\n",
    "\n",
    "plt.xlabel(r'$\\sigma$', fontsize=20)\n",
    "plt.ylabel(r'$\\rho$', fontsize=20)\n",
    "plt.title(\"Untrained attractors in predicting reservoir state space\", fontsize=20)"
   ]
  },
  {
   "cell_type": "code",
   "execution_count": 31,
   "metadata": {},
   "outputs": [
    {
     "data": {
      "text/plain": [
       "array([[ 4.,  4.,  1.,  4.,  4.,  4.,  4.,  1.,  1.],\n",
       "       [ 4.,  4.,  4.,  4.,  4.,  4., 12.,  4., 10.],\n",
       "       [ 4.,  4.,  4.,  4.,  4.,  5.,  4.,  4.,  5.],\n",
       "       [ 4.,  4.,  4.,  4.,  4.,  4., 10.,  4.,  5.],\n",
       "       [ 4.,  4.,  4.,  4.,  4.,  4.,  4.,  5.,  4.],\n",
       "       [12.,  4.,  4.,  4.,  8.,  5.,  5.,  5.,  5.],\n",
       "       [ 4.,  4.,  4., 13.,  2.,  8.,  5.,  5.,  5.],\n",
       "       [ 4.,  4.,  4., 12.,  5.,  9.,  8., 10.,  6.],\n",
       "       [ 4.,  1.,  4.,  9., 13., 13.,  8.,  4.,  6.]])"
      ]
     },
     "execution_count": 31,
     "metadata": {},
     "output_type": "execute_result"
    }
   ],
   "source": [
    "ua_mat"
   ]
  },
  {
   "cell_type": "code",
   "execution_count": 29,
   "metadata": {},
   "outputs": [],
   "source": [
    "np.savetxt(\"ESN_attractors.csv\", ua_mat, delimiter=\",\")"
   ]
  },
  {
   "cell_type": "code",
   "execution_count": 18,
   "metadata": {},
   "outputs": [
    {
     "name": "stdout",
     "output_type": "stream",
     "text": [
      "Wall time: 21.9 s\n"
     ]
    }
   ],
   "source": [
    "%%time\n",
    "tpe_matrix = esn_rs_grid.pred_tpe_mat(0.01, lorenz, alpha)"
   ]
  },
  {
   "cell_type": "code",
   "execution_count": 19,
   "metadata": {},
   "outputs": [],
   "source": [
    "log_tpe_matrix = np.log(tpe_matrix)"
   ]
  },
  {
   "cell_type": "code",
   "execution_count": 20,
   "metadata": {},
   "outputs": [
    {
     "data": {
      "text/plain": [
       "Text(0.5, 1.0, 'Prediction log TPE')"
      ]
     },
     "execution_count": 20,
     "metadata": {},
     "output_type": "execute_result"
    },
    {
     "data": {
      "image/png": "[encoded data removed]",
      "text/plain": [
       "<Figure size 720x720 with 2 Axes>"
      ]
     },
     "metadata": {
      "needs_background": "light"
     },
     "output_type": "display_data"
    }
   ],
   "source": [
    "fig, ax = plt.subplots(figsize=(10,10))\n",
    "\n",
    "plt.imshow(log_tpe_matrix,\n",
    "               origin='lower', extent=[0.1, 1.0, 0.1, 1.0],\n",
    "               vmax=log_tpe_matrix.max(), vmin=0,\n",
    "               aspect='auto',\n",
    "               cmap=plt.cm.get_cmap('viridis'))\n",
    "\n",
    "plt.colorbar();\n",
    "\n",
    "plt.xticks([0.1, 0.2, 0.3, 0.4, 0.5, 0.6, 0.7, 0.8, 0.9, 1.0])\n",
    "plt.yticks([0.1, 0.2, 0.3, 0.4, 0.5, 0.6, 0.7, 0.8, 0.9, 1.0])\n",
    "\n",
    "plt.xlabel(r'$\\sigma$', fontsize=20)\n",
    "plt.ylabel(r'$\\rho$', fontsize=20)\n",
    "plt.title(\"Prediction log TPE\", fontsize=20)"
   ]
  },
  {
   "cell_type": "code",
   "execution_count": 33,
   "metadata": {},
   "outputs": [],
   "source": [
    "np.savetxt(\"ESN_log_TPE.csv\", log_tpe_matrix, delimiter=\",\")"
   ]
  },
  {
   "cell_type": "code",
   "execution_count": 21,
   "metadata": {},
   "outputs": [
    {
     "name": "stdout",
     "output_type": "stream",
     "text": [
      "Wall time: 7min 46s\n"
     ]
    }
   ],
   "source": [
    "%%time\n",
    "rp_matrix = esn_rs_grid.rp_matrix(0.01, lorenz, alpha, 5)"
   ]
  },
  {
   "cell_type": "code",
   "execution_count": 22,
   "metadata": {},
   "outputs": [],
   "source": [
    "from matplotlib.colors import ListedColormap, LinearSegmentedColormap"
   ]
  },
  {
   "cell_type": "code",
   "execution_count": 23,
   "metadata": {},
   "outputs": [
    {
     "data": {
      "text/plain": [
       "Text(0.5, 1.0, 'Proportion of ICs on Embedded Lorenz')"
      ]
     },
     "execution_count": 23,
     "metadata": {},
     "output_type": "execute_result"
    },
    {
     "data": {
      "image/png": "[encoded data removed]",
      "text/plain": [
       "<Figure size 720x720 with 2 Axes>"
      ]
     },
     "metadata": {
      "needs_background": "light"
     },
     "output_type": "display_data"
    }
   ],
   "source": [
    "viridis = cm.get_cmap('viridis', 256)\n",
    "newcolors = viridis(np.linspace(0, 1, 256))\n",
    "white = np.array([256/256, 256/256, 256/256, 1])\n",
    "newcolors[0, :] = white\n",
    "newcmp = ListedColormap(newcolors)\n",
    "\n",
    "fig, ax = plt.subplots(figsize=(10,10))\n",
    "\n",
    "plt.imshow(rp_matrix,\n",
    "               origin='lower', extent=[0.1, 1.0, 0.1, 1.0],\n",
    "               vmax=1, vmin=0,\n",
    "               aspect='auto',\n",
    "               cmap=newcmp)\n",
    "\n",
    "plt.colorbar();\n",
    "\n",
    "plt.xticks([0.1, 0.2, 0.3, 0.4, 0.5, 0.6, 0.7, 0.8, 0.9, 1.0])\n",
    "plt.yticks([0.1, 0.2, 0.3, 0.4, 0.5, 0.6, 0.7, 0.8, 0.9, 1.0])\n",
    "\n",
    "plt.xlabel(r'$\\sigma$', fontsize=20)\n",
    "plt.ylabel(r'$\\rho$', fontsize=20)\n",
    "plt.title(\"Proportion of ICs on Embedded Lorenz\", fontsize=20)"
   ]
  },
  {
   "cell_type": "code",
   "execution_count": 35,
   "metadata": {},
   "outputs": [],
   "source": [
    "np.savetxt(\"ESN_rp.csv\", rp_matrix, delimiter=\",\")"
   ]
  },
  {
   "cell_type": "code",
   "execution_count": null,
   "metadata": {},
   "outputs": [],
   "source": []
  }
 ],
 "metadata": {
  "kernelspec": {
   "display_name": "Python 3",
   "language": "python",
   "name": "python3"
  },
  "language_info": {
   "codemirror_mode": {
    "name": "ipython",
    "version": 3
   },
   "file_extension": ".py",
   "mimetype": "text/x-python",
   "name": "python",
   "nbconvert_exporter": "python",
   "pygments_lexer": "ipython3",
   "version": "3.8.5"
  }
 },
 "nbformat": 4,
 "nbformat_minor": 4
}
