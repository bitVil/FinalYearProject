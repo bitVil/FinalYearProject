{
 "cells": [
  {
   "cell_type": "code",
   "execution_count": 1,
   "metadata": {},
   "outputs": [],
   "source": [
    "import numpy as np\n",
    "import scipy.sparse as sp\n",
    "import matplotlib.pyplot as plt\n",
    "import scipy.integrate as integrate\n",
    "import ipywidgets as widgets\n",
    "import pickle\n",
    "from mpl_toolkits.axes_grid1.axes_divider import make_axes_locatable\n",
    "from matplotlib import cm\n",
    "\n",
    "import ReservoirComputer3_2 as ReCom\n",
    "import ReservoirGrid_2 as ReGrid"
   ]
  },
  {
   "cell_type": "code",
   "execution_count": 2,
   "metadata": {},
   "outputs": [],
   "source": [
    "def lorenz(u, t, *args):\n",
    "    x, y, z = u[0], u[1], u[2]\n",
    "    beta, rho, sigma = alpha[0], alpha[1], alpha[2]\n",
    "    \n",
    "    return np.asarray([sigma*(y - x), x*(rho - z) - y, x*y - beta*z])\n",
    "\n",
    "T_train = 100\n",
    "T_predict = 150\n",
    "dt = 0.01\n",
    "alpha = (8.0/3.0, 28.0, 10.0)\n",
    "x0 = np.asarray([1.0, 1.0, 1.0])\n",
    "t_points_train = np.linspace(0, T_train, int(T_train/dt))\n",
    "t_points_predict = np.linspace(0, T_predict, int(T_predict/dt))\n",
    "train_data = integrate.odeint(lorenz, x0, t_points_train, args=alpha)\n",
    "val_data = integrate.odeint(lorenz, train_data[-1], t_points_predict, args=alpha)"
   ]
  },
  {
   "cell_type": "code",
   "execution_count": 3,
   "metadata": {},
   "outputs": [],
   "source": [
    "rho_list = np.arange(0.1, 1.0, 0.1)\n",
    "sigma_list = np.arange(0.1, 1.0, 0.1)\n",
    "ics = list(np.random.uniform(low=-1, high=1, size=(20,100)))"
   ]
  },
  {
   "cell_type": "code",
   "execution_count": 5,
   "metadata": {},
   "outputs": [],
   "source": [
    "RC = ReCom.IPESN(N=100, p=0.01, d=3, rho=0.3, sigma=0.6, gamma=10.0, beta=1e-6, eta_i=1e-5, epochs_i=5, eta_s=0, epochs_s=0)\n",
    "ipesn_rs_grid = ReGrid.Comb_ESN_RhoSigmaGrid(rho_list, sigma_list, RC)"
   ]
  },
  {
   "cell_type": "code",
   "execution_count": 6,
   "metadata": {},
   "outputs": [
    {
     "name": "stdout",
     "output_type": "stream",
     "text": [
      "Wall time: 13min 35s\n"
     ]
    }
   ],
   "source": [
    "%%time\n",
    "ipesn_rs_grid.train_RCs(train_data, t_points_train, t_listen=5000, rule='ip')"
   ]
  },
  {
   "cell_type": "code",
   "execution_count": 7,
   "metadata": {},
   "outputs": [],
   "source": [
    "rho_sigma_RCs = ipesn_rs_grid.rho_sigma_RCs"
   ]
  },
  {
   "cell_type": "code",
   "execution_count": 8,
   "metadata": {},
   "outputs": [
    {
     "name": "stdout",
     "output_type": "stream",
     "text": [
      "Stored 'rho_sigma_RCs' (dict)\n"
     ]
    }
   ],
   "source": [
    "%store rho_sigma_RCs"
   ]
  },
  {
   "cell_type": "code",
   "execution_count": 5,
   "metadata": {},
   "outputs": [],
   "source": [
    "%store -r rho_sigma_RCs"
   ]
  },
  {
   "cell_type": "code",
   "execution_count": 7,
   "metadata": {},
   "outputs": [
    {
     "name": "stdout",
     "output_type": "stream",
     "text": [
      "0.1 0.1\n",
      "0.1 0.2\n",
      "0.1 0.30000000000000004\n",
      "0.1 0.4\n",
      "0.1 0.5\n",
      "0.1 0.6\n",
      "0.1 0.7000000000000001\n",
      "0.1 0.8\n",
      "0.1 0.9\n",
      "0.2 0.1\n",
      "0.2 0.2\n",
      "0.2 0.30000000000000004\n",
      "0.2 0.4\n",
      "0.2 0.5\n",
      "0.2 0.6\n",
      "0.2 0.7000000000000001\n",
      "0.2 0.8\n",
      "0.2 0.9\n",
      "0.30000000000000004 0.1\n",
      "0.30000000000000004 0.2\n",
      "0.30000000000000004 0.30000000000000004\n",
      "0.30000000000000004 0.4\n",
      "0.30000000000000004 0.5\n",
      "0.30000000000000004 0.6\n",
      "0.30000000000000004 0.7000000000000001\n",
      "0.30000000000000004 0.8\n",
      "0.30000000000000004 0.9\n",
      "0.4 0.1\n",
      "0.4 0.2\n",
      "0.4 0.30000000000000004\n",
      "0.4 0.4\n",
      "0.4 0.5\n",
      "0.4 0.6\n",
      "0.4 0.7000000000000001\n",
      "0.4 0.8\n",
      "0.4 0.9\n",
      "0.5 0.1\n",
      "0.5 0.2\n",
      "0.5 0.30000000000000004\n",
      "0.5 0.4\n",
      "0.5 0.5\n",
      "0.5 0.6\n",
      "0.5 0.7000000000000001\n",
      "0.5 0.8\n",
      "0.5 0.9\n",
      "0.6 0.1\n",
      "0.6 0.2\n",
      "0.6 0.30000000000000004\n",
      "0.6 0.4\n",
      "0.6 0.5\n",
      "0.6 0.6\n",
      "0.6 0.7000000000000001\n",
      "0.6 0.8\n",
      "0.6 0.9\n",
      "0.7000000000000001 0.1\n",
      "0.7000000000000001 0.2\n",
      "0.7000000000000001 0.30000000000000004\n",
      "0.7000000000000001 0.4\n",
      "0.7000000000000001 0.5\n",
      "0.7000000000000001 0.6\n",
      "0.7000000000000001 0.7000000000000001\n",
      "0.7000000000000001 0.8\n",
      "0.7000000000000001 0.9\n",
      "0.8 0.1\n",
      "0.8 0.2\n",
      "0.8 0.30000000000000004\n",
      "0.8 0.4\n",
      "0.8 0.5\n",
      "0.8 0.6\n",
      "0.8 0.7000000000000001\n",
      "0.8 0.8\n",
      "0.8 0.9\n",
      "0.9 0.1\n",
      "0.9 0.2\n",
      "0.9 0.30000000000000004\n",
      "0.9 0.4\n",
      "0.9 0.5\n",
      "0.9 0.6\n",
      "0.9 0.7000000000000001\n",
      "0.9 0.8\n",
      "0.9 0.9\n",
      "Wall time: 30min 17s\n"
     ]
    }
   ],
   "source": [
    "%%time\n",
    "ipesn_rs_grid.calc_trajectories(t_points_predict, ics)"
   ]
  },
  {
   "cell_type": "code",
   "execution_count": 8,
   "metadata": {},
   "outputs": [],
   "source": [
    "trajectories = ipesn_rs_grid.trajectories"
   ]
  },
  {
   "cell_type": "code",
   "execution_count": 9,
   "metadata": {},
   "outputs": [
    {
     "name": "stdout",
     "output_type": "stream",
     "text": [
      "Stored 'trajectories' (ndarray)\n"
     ]
    }
   ],
   "source": [
    "%store trajectories"
   ]
  },
  {
   "cell_type": "code",
   "execution_count": 6,
   "metadata": {},
   "outputs": [],
   "source": [
    "%store -r trajectories"
   ]
  },
  {
   "cell_type": "code",
   "execution_count": 7,
   "metadata": {},
   "outputs": [],
   "source": [
    "ipesn_rs_grid.rho_sigma_RCs = rho_sigma_RCs\n",
    "ipesn_rs_grid.trajectories = trajectories"
   ]
  },
  {
   "cell_type": "code",
   "execution_count": 10,
   "metadata": {},
   "outputs": [
    {
     "data": {
      "application/vnd.jupyter.widget-view+json": {
       "model_id": "01074975c97b4ffeb8a2b089c4bc9e86",
       "version_major": 2,
       "version_minor": 0
      },
      "text/plain": [
       "interactive(children=(IntSlider(value=0, description='i', max=8), IntSlider(value=0, description='j', max=8), …"
      ]
     },
     "metadata": {},
     "output_type": "display_data"
    }
   ],
   "source": [
    "%matplotlib inline\n",
    "@widgets.interact(i=(0, rho_list.size-1, 1), j=(0, sigma_list.size-1, 1), t_start=(0, 15000, 10), t_end=(0, 15000, 10),\n",
    "                  xlim=(0,4000,10), ylim=(0,4000,10), zlim=(0, 4000, 10))\n",
    "def update(i=0, j=0, t_start=1000, t_end=15000, xlim=200, ylim=200, zlim=200):\n",
    "    fig = plt.figure(figsize=(15,9))  \n",
    "    ReGrid.plot_traj(ipesn_rs_grid.trajectories[i,j], t_start, t_end, xlim, ylim, zlim)\n",
    "    print(\"rho = \" + str(rho_list[i]))\n",
    "    print(\"sigma = \" + str(sigma_list[j]))"
   ]
  },
  {
   "cell_type": "code",
   "execution_count": 11,
   "metadata": {},
   "outputs": [
    {
     "name": "stdout",
     "output_type": "stream",
     "text": [
      "Wall time: 28.7 s\n"
     ]
    }
   ],
   "source": [
    "%%time\n",
    "ipesn_rs_grid.attractor_dict(0.01, lorenz, alpha, tpe_tol=3)"
   ]
  },
  {
   "cell_type": "code",
   "execution_count": 12,
   "metadata": {},
   "outputs": [
    {
     "name": "stdout",
     "output_type": "stream",
     "text": [
      "Wall time: 0 ns\n"
     ]
    }
   ],
   "source": [
    "%%time\n",
    "attractor_encoding = { \n",
    "    (1, 0, 0):0, (2, 0, 0):1, (3, 0, 0):2, (4, 0, 0):3,\n",
    "    (0, 1, 0):4, (1, 1, 0):5, (2, 1, 0):6, (3, 1, 0):7,\n",
    "    (1, 0, 1):8, (2, 0, 1):9, (3, 0, 1):10, (4, 0, 1):11,\n",
    "    (1, 1, 1):12, (2, 1, 1):13, (3, 1, 1):14, (4, 1, 1):15,\n",
    "    (0, 0, 0):16, (0, 1, 1):17, (0, 0, 1):18\n",
    "                     }\n",
    "\n",
    "attractor_encoding = { \n",
    "    (0, 0, 0):0, (1, 0, 0):1, (2, 0, 0):2, (5, 0, 0):3,\n",
    "    (0, 1, 0):4, (1, 1, 0):5, (2, 1, 0):6, (2, 1, 1):7,\n",
    "    (1, 0, 1):8, (2, 0, 1):9, (1, 1, 1):10, (3, 1, 1):11,\n",
    "    (0, 1, 1):12, (0, 0, 1):13\n",
    "}\n",
    "\n",
    "rev_encoding = {v: k for k, v in attractor_encoding.items()}\n",
    "ua_mat = ipesn_rs_grid.ua_matrix(attractor_encoding) "
   ]
  },
  {
   "cell_type": "code",
   "execution_count": 13,
   "metadata": {},
   "outputs": [],
   "source": [
    "def tuple_to_label(x):\n",
    "    if max(x) == 0 and min(x) == 0:\n",
    "        label = \"No UAs\"\n",
    "    else:\n",
    "        label = []\n",
    "        if x[0] != 0:\n",
    "            label.append(str(x[0]) + \" FP, \")\n",
    "        if x[1] != 0:\n",
    "            label.append(str(x[1]) + \" LC, \")\n",
    "        if x[2] != 0:\n",
    "            label.append(str(x[2]) + \" other \")\n",
    "        label = \"\".join(label)\n",
    "    if label[-2:] ==', ':\n",
    "        label = label[:-2]\n",
    "    return label\n",
    "\n",
    "\n",
    "def rank_matrix(mat):\n",
    "    rank_mat = np.zeros(mat.shape)\n",
    "    rank_list = list(set(mat.flatten()))\n",
    "    rank_list.sort()\n",
    "    for i in range(rank_mat.shape[0]):\n",
    "        # get the index of the element in the rank list\n",
    "        rank_mat[i] = [np.where(rank_list==x)[0][0] for x in mat[i]]\n",
    "    \n",
    "    return rank_mat"
   ]
  },
  {
   "cell_type": "code",
   "execution_count": 14,
   "metadata": {},
   "outputs": [
    {
     "data": {
      "text/plain": [
       "[0, 1, 2, 3, 4, 5, 6, 7]"
      ]
     },
     "execution_count": 14,
     "metadata": {},
     "output_type": "execute_result"
    }
   ],
   "source": [
    "valid_vals = list(set(ua_mat.flatten()))\n",
    "valid_vals.sort()\n",
    "indices = list(range(len(valid_vals)))\n",
    "indices"
   ]
  },
  {
   "cell_type": "code",
   "execution_count": 21,
   "metadata": {},
   "outputs": [
    {
     "data": {
      "text/plain": [
       "Text(0.5, 1.0, 'Untrained attractors in predicting reservoir state space')"
      ]
     },
     "execution_count": 21,
     "metadata": {},
     "output_type": "execute_result"
    },
    {
     "data": {
      "image/png": "[encoded data removed]",
      "text/plain": [
       "<Figure size 720x720 with 2 Axes>"
      ]
     },
     "metadata": {
      "needs_background": "light"
     },
     "output_type": "display_data"
    }
   ],
   "source": [
    "fig, ax = plt.subplots(figsize=(10,10))\n",
    "\n",
    "plt.imshow(rank_matrix(ua_mat),\n",
    "               origin='lower', extent=[0.1, 1.0, 0.1, 1.0], \n",
    "               aspect='auto',\n",
    "               cmap=plt.cm.get_cmap('tab10', 8))\n",
    "\n",
    "formatter = plt.FuncFormatter(lambda val, loc: tuple_to_label(rev_encoding[int(valid_vals[val])]))\n",
    "\n",
    "# We must be sure to specify the ticks matching our target names\n",
    "plt.colorbar(ticks=[0, 1, 2, 3, 4, 5, 6, 7], format=formatter);\n",
    "\n",
    "# Set the clim so that labels are centered on each block\n",
    "plt.clim(-0.5, 7.5)\n",
    "\n",
    "plt.xticks([0.1, 0.2, 0.3, 0.4, 0.5, 0.6, 0.7, 0.8, 0.9, 1.0])\n",
    "plt.yticks([0.1, 0.2, 0.3, 0.4, 0.5, 0.6, 0.7, 0.8, 0.9, 1.0])\n",
    "\n",
    "plt.xlabel(r'$\\sigma$', fontsize=20)\n",
    "plt.ylabel(r'$\\rho$', fontsize=20)\n",
    "plt.title(\"Untrained attractors in predicting reservoir state space\", fontsize=20)"
   ]
  },
  {
   "cell_type": "code",
   "execution_count": 24,
   "metadata": {},
   "outputs": [
    {
     "data": {
      "text/plain": [
       "Text(0.5, 1.0, 'Untrained attractors in predicting reservoir state space')"
      ]
     },
     "execution_count": 24,
     "metadata": {},
     "output_type": "execute_result"
    },
    {
     "data": {
      "image/png": "[encoded data removed]",
      "text/plain": [
       "<Figure size 720x720 with 2 Axes>"
      ]
     },
     "metadata": {
      "needs_background": "light"
     },
     "output_type": "display_data"
    }
   ],
   "source": [
    "fig, ax = plt.subplots(figsize=(10,10))\n",
    "\n",
    "plt.imshow(ua_mat,\n",
    "           origin='lower', extent=[0.1, 1.0, 0.1, 1.0], \n",
    "           aspect='auto',\n",
    "           cmap=plt.cm.get_cmap('tab20', 14))\n",
    "\n",
    "formatter = plt.FuncFormatter(lambda val, loc: tuple_to_label(rev_encoding[val]))\n",
    "\n",
    "# We must be sure to specify the ticks matching our target names\n",
    "plt.colorbar(ticks=[0, 1, 2, 3, 4, 5, 6, 7, 8, 9, 10, 11, 12, 13], format=formatter);\n",
    "\n",
    "# Set the clim so that labels are centered on each block\n",
    "plt.clim(-0.5, 13.5)\n",
    "\n",
    "plt.xticks([0.1, 0.2, 0.3, 0.4, 0.5, 0.6, 0.7, 0.8, 0.9, 1.0])\n",
    "plt.yticks([0.1, 0.2, 0.3, 0.4, 0.5, 0.6, 0.7, 0.8, 0.9, 1.0])\n",
    "\n",
    "plt.xlabel(r'$\\sigma$', fontsize=20)\n",
    "plt.ylabel(r'$\\rho$', fontsize=20)\n",
    "plt.title(\"Untrained attractors in predicting reservoir state space\", fontsize=20)"
   ]
  },
  {
   "cell_type": "code",
   "execution_count": 25,
   "metadata": {},
   "outputs": [],
   "source": [
    "np.savetxt(\"IP_attractors.csv\", ua_mat, delimiter=\",\")"
   ]
  },
  {
   "cell_type": "code",
   "execution_count": 16,
   "metadata": {},
   "outputs": [
    {
     "name": "stdout",
     "output_type": "stream",
     "text": [
      "Wall time: 22.2 s\n"
     ]
    }
   ],
   "source": [
    "%%time\n",
    "tpe_matrix = ipesn_rs_grid.pred_tpe_mat(0.01, lorenz, alpha)"
   ]
  },
  {
   "cell_type": "code",
   "execution_count": 17,
   "metadata": {},
   "outputs": [],
   "source": [
    "log_tpe_matrix = np.log(tpe_matrix)"
   ]
  },
  {
   "cell_type": "code",
   "execution_count": 18,
   "metadata": {},
   "outputs": [
    {
     "data": {
      "text/plain": [
       "Text(0.5, 1.0, 'Prediction log TPE')"
      ]
     },
     "execution_count": 18,
     "metadata": {},
     "output_type": "execute_result"
    },
    {
     "data": {
      "image/png": "[encoded data removed]",
      "text/plain": [
       "<Figure size 720x720 with 2 Axes>"
      ]
     },
     "metadata": {
      "needs_background": "light"
     },
     "output_type": "display_data"
    }
   ],
   "source": [
    "fig, ax = plt.subplots(figsize=(10,10))\n",
    "\n",
    "plt.imshow(log_tpe_matrix,\n",
    "               origin='lower', extent=[0.1, 1.0, 0.1, 1.0],\n",
    "               vmax=log_tpe_matrix.max(), vmin=0,\n",
    "               aspect='auto',\n",
    "               cmap=plt.cm.get_cmap('viridis'))\n",
    "\n",
    "plt.colorbar();\n",
    "\n",
    "plt.xticks([0.1, 0.2, 0.3, 0.4, 0.5, 0.6, 0.7, 0.8, 0.9, 1.0])\n",
    "plt.yticks([0.1, 0.2, 0.3, 0.4, 0.5, 0.6, 0.7, 0.8, 0.9, 1.0])\n",
    "\n",
    "plt.xlabel(r'$\\sigma$', fontsize=20)\n",
    "plt.ylabel(r'$\\rho$', fontsize=20)\n",
    "plt.title(\"Prediction log TPE\", fontsize=20)"
   ]
  },
  {
   "cell_type": "code",
   "execution_count": 28,
   "metadata": {},
   "outputs": [],
   "source": [
    "np.savetxt(\"IP_log_TPE.csv\", log_tpe_matrix, delimiter=\",\")"
   ]
  },
  {
   "cell_type": "code",
   "execution_count": 19,
   "metadata": {},
   "outputs": [
    {
     "name": "stdout",
     "output_type": "stream",
     "text": [
      "Wall time: 7min 42s\n"
     ]
    }
   ],
   "source": [
    "%%time\n",
    "rp_matrix = ipesn_rs_grid.rp_matrix(0.01, lorenz, alpha, 3)"
   ]
  },
  {
   "cell_type": "code",
   "execution_count": 22,
   "metadata": {},
   "outputs": [
    {
     "ename": "ImportError",
     "evalue": "cannot import name 'LinearSegmentedColormap1' from 'matplotlib.colors' (C:\\Users\\foxda\\anaconda3\\lib\\site-packages\\matplotlib\\colors.py)",
     "output_type": "error",
     "traceback": [
      "\u001b[1;31m---------------------------------------------------------------------------\u001b[0m",
      "\u001b[1;31mImportError\u001b[0m                               Traceback (most recent call last)",
      "\u001b[1;32m<ipython-input-22-a20d0d2c7078>\u001b[0m in \u001b[0;36m<module>\u001b[1;34m\u001b[0m\n\u001b[1;32m----> 1\u001b[1;33m \u001b[1;32mfrom\u001b[0m \u001b[0mmatplotlib\u001b[0m\u001b[1;33m.\u001b[0m\u001b[0mcolors\u001b[0m \u001b[1;32mimport\u001b[0m \u001b[0mListedColormap\u001b[0m\u001b[1;33m,\u001b[0m \u001b[0mLinearSegmentedColormap1\u001b[0m\u001b[1;33m\u001b[0m\u001b[1;33m\u001b[0m\u001b[0m\n\u001b[0m",
      "\u001b[1;31mImportError\u001b[0m: cannot import name 'LinearSegmentedColormap1' from 'matplotlib.colors' (C:\\Users\\foxda\\anaconda3\\lib\\site-packages\\matplotlib\\colors.py)"
     ]
    }
   ],
   "source": [
    "from matplotlib.colors import ListedColormap, LinearSegmentedColormap1"
   ]
  },
  {
   "cell_type": "code",
   "execution_count": 23,
   "metadata": {},
   "outputs": [
    {
     "data": {
      "text/plain": [
       "Text(0.5, 1.0, 'Proportion of ICs on Embedded Lorenz')"
      ]
     },
     "execution_count": 23,
     "metadata": {},
     "output_type": "execute_result"
    },
    {
     "data": {
      "image/png": "[encoded data removed]",
      "text/plain": [
       "<Figure size 720x720 with 2 Axes>"
      ]
     },
     "metadata": {
      "needs_background": "light"
     },
     "output_type": "display_data"
    }
   ],
   "source": [
    "viridis = cm.get_cmap('viridis', 256)\n",
    "newcolors = viridis(np.linspace(0, 1, 256))\n",
    "white = np.array([256/256, 256/256, 256/256, 1])\n",
    "newcolors[0, :] = white\n",
    "newcmp = ListedColormap(newcolors)\n",
    "\n",
    "fig, ax = plt.subplots(figsize=(10,10))\n",
    "\n",
    "plt.imshow(rp_matrix,\n",
    "               origin='lower', extent=[0.1, 1.0, 0.1, 1.0],\n",
    "               vmax=1, vmin=0,\n",
    "               aspect='auto',\n",
    "               cmap=newcmp)\n",
    "\n",
    "plt.colorbar();\n",
    "\n",
    "plt.xticks([0.1, 0.2, 0.3, 0.4, 0.5, 0.6, 0.7, 0.8, 0.9, 1.0])\n",
    "plt.yticks([0.1, 0.2, 0.3, 0.4, 0.5, 0.6, 0.7, 0.8, 0.9, 1.0])\n",
    "\n",
    "plt.xlabel(r'$\\sigma$', fontsize=20)\n",
    "plt.ylabel(r'$\\rho$', fontsize=20)\n",
    "plt.title(\"Proportion of ICs on Embedded Lorenz\", fontsize=20)"
   ]
  },
  {
   "cell_type": "code",
   "execution_count": 29,
   "metadata": {},
   "outputs": [],
   "source": [
    "np.savetxt(\"IP_rp.csv\", rp_matrix, delimiter=\",\")"
   ]
  },
  {
   "cell_type": "code",
   "execution_count": null,
   "metadata": {},
   "outputs": [],
   "source": []
  }
 ],
 "metadata": {
  "kernelspec": {
   "display_name": "Python 3",
   "language": "python",
   "name": "python3"
  },
  "language_info": {
   "codemirror_mode": {
    "name": "ipython",
    "version": 3
   },
   "file_extension": ".py",
   "mimetype": "text/x-python",
   "name": "python",
   "nbconvert_exporter": "python",
   "pygments_lexer": "ipython3",
   "version": "3.8.5"
  }
 },
 "nbformat": 4,
 "nbformat_minor": 4
}
